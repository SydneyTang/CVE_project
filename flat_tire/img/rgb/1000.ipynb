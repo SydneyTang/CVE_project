{
 "cells": [
  {
   "cell_type": "code",
   "execution_count": 1,
   "metadata": {},
   "outputs": [],
   "source": [
    "import cv2  # For image processing\n",
    "import numpy as np  # For numerical operations\n",
    "import matplotlib.pyplot as plt  # For showing images\n",
    "\n",
    "# 定义处理图片的函数\n",
    "def process_and_save_image(filename, target_width=1000):\n",
    "    \"\"\"\n",
    "    读取、缩放并保存图片。\n",
    "    \n",
    "    :param filename: 图片文件名（包含路径）\n",
    "    :param target_width: 目标宽度，默认1000像素\n",
    "    \"\"\"\n",
    "    try:\n",
    "        # 读取图片\n",
    "        image = cv2.imread(filename)\n",
    "        if image is None:\n",
    "            print(f\"Failed to read {filename}. File not found or not a valid image.\")\n",
    "            return\n",
    "\n",
    "        # 获取原始图片的宽度和高度\n",
    "        original_height, original_width = image.shape[:2]\n",
    "\n",
    "        # 计算缩放比例\n",
    "        scale = target_width / original_width\n",
    "\n",
    "        # 计算新的高度\n",
    "        target_height = int(original_height * scale)\n",
    "\n",
    "        # 缩放图片\n",
    "        resized_image = cv2.resize(image, (target_width, target_height), interpolation=cv2.INTER_AREA)\n",
    "\n",
    "        # 保存到原路径\n",
    "        cv2.imwrite(filename, resized_image)\n",
    "        print(f\"Processed and saved {filename}\")\n",
    "\n",
    "    except Exception as e:\n",
    "        print(f\"Error processing {filename}: {e}\")"
   ]
  },
  {
   "cell_type": "code",
   "execution_count": 2,
   "metadata": {},
   "outputs": [
    {
     "name": "stdout",
     "output_type": "stream",
     "text": [
      "Processed and saved 13.jpg\n",
      "Processed and saved 14.jpg\n",
      "Processed and saved 15.jpg\n",
      "Processed and saved 16.jpg\n",
      "Processed and saved 17.jpg\n",
      "Processed and saved 18.jpg\n",
      "Processed and saved 19.jpg\n",
      "Processed and saved 20.jpg\n",
      "Processed and saved 21.jpg\n"
     ]
    }
   ],
   "source": [
    "\n",
    "\n",
    "# 读取原始图片\n",
    "for i in range(13,22):  # 13 表示遍历 0 到 12\n",
    "    filename = f\"{i:02d}.jpg\"  # 格式化为两位数，例如 00.jpg\n",
    "    process_and_save_image(filename)\n"
   ]
  }
 ],
 "metadata": {
  "kernelspec": {
   "display_name": "cve",
   "language": "python",
   "name": "python3"
  },
  "language_info": {
   "codemirror_mode": {
    "name": "ipython",
    "version": 3
   },
   "file_extension": ".py",
   "mimetype": "text/x-python",
   "name": "python",
   "nbconvert_exporter": "python",
   "pygments_lexer": "ipython3",
   "version": "3.10.14"
  }
 },
 "nbformat": 4,
 "nbformat_minor": 2
}
